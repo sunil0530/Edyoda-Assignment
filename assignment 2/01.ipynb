{
 "cells": [
  {
   "cell_type": "code",
   "execution_count": 1,
   "metadata": {},
   "outputs": [
    {
     "name": "stdout",
     "output_type": "stream",
     "text": [
      "[1, 1, 2, 3, 5, 8, 13, 21, 34]\n"
     ]
    }
   ],
   "source": [
    "# Write a Python program to get the Fibonacci series between 0 to 50\n",
    "\n",
    "def fibonacciSeries(n):\n",
    "    # a = []\n",
    "    if n <= 1:\n",
    "        # print (\"hhi\")\n",
    "        return n\n",
    "\n",
    "    else:\n",
    "        # print(\"hhiiiii\")\n",
    "        return fibonacciSeries(n-1) + fibonacciSeries(n-2)\n",
    "\n",
    "n = 10\n",
    "a =[]\n",
    "for i in range(1, n):\n",
    "    # print(fibonacciSeries(i))\n",
    "    a.append(fibonacciSeries(i))\n",
    "print(a)"
   ]
  },
  {
   "cell_type": "code",
   "execution_count": 2,
   "metadata": {},
   "outputs": [],
   "source": [
    "# Write a Python program that accepts a word from the user and reverse it.\n",
    "\n",
    "\n",
    "a = input(\"Enter a word:\")\n",
    "print(\"Reverse string is:\",a[::-1])"
   ]
  },
  {
   "cell_type": "code",
   "execution_count": null,
   "metadata": {},
   "outputs": [],
   "source": [
    "tuple_list = [(2, 5), (1, 2), (4, 4), (2, 3), (2, 1)]\n",
    "\n",
    "\n",
    "tuple_list.sort(key=lambda x: x[-1])\n",
    "\n",
    "\n",
    "print(\"Sorted List:\", tuple_list)"
   ]
  },
  {
   "cell_type": "code",
   "execution_count": null,
   "metadata": {},
   "outputs": [],
   "source": [
    "ascii_dict = {}\n",
    "\n",
    "\n",
    "for letter in range(ord('a'), ord('z') + 1):\n",
    "\n",
    "    ascii_dict[chr(letter)] = letter\n",
    "\n",
    "\n",
    "print(ascii_dict)"
   ]
  },
  {
   "cell_type": "code",
   "execution_count": null,
   "metadata": {},
   "outputs": [],
   "source": [
    "def sum_list_numbers(numbers):\n",
    "    total = 0  \n",
    "\n",
    "    for num in numbers:  \n",
    "        total += num     \n",
    "\n",
    "    return total        \n",
    "\n",
    "\n",
    "sample_list = [8, 2, 3, 0, 7]\n",
    "\n",
    "\n",
    "result = sum_list_numbers(sample_list)\n",
    "print(\"Sum of the numbers:\", result)"
   ]
  },
  {
   "cell_type": "code",
   "execution_count": null,
   "metadata": {},
   "outputs": [],
   "source": [
    "def reverse_string(input_string):\n",
    "    return input_string[::-1]\n",
    "\n",
    "sample_string = \"1234abcd\"\n",
    "reversed_string = reverse_string(sample_string)\n",
    "print(\"Reversed String:\", reversed_string)"
   ]
  },
  {
   "cell_type": "code",
   "execution_count": null,
   "metadata": {},
   "outputs": [],
   "source": [
    "def count_case_letters(input_string):\n",
    "    upper_count = 0\n",
    "    lower_count = 0\n",
    "\n",
    "    for char in input_string:\n",
    "        if char.isupper():\n",
    "            upper_count += 1\n",
    "        elif char.islower():\n",
    "            lower_count += 1\n",
    "\n",
    "    return upper_count, lower_count\n",
    "\n",
    "sample_string = 'The quick Brow Fox'\n",
    "upper_count, lower_count = count_case_letters(sample_string)\n",
    "print(\"Uppercase letters:\", upper_count)\n",
    "print(\"Lowercase letters:\", lower_count)"
   ]
  }
 ],
 "metadata": {
  "kernelspec": {
   "display_name": "Python 3",
   "language": "python",
   "name": "python3"
  },
  "language_info": {
   "codemirror_mode": {
    "name": "ipython",
    "version": 3
   },
   "file_extension": ".py",
   "mimetype": "text/x-python",
   "name": "python",
   "nbconvert_exporter": "python",
   "pygments_lexer": "ipython3",
   "version": "3.11.4"
  },
  "orig_nbformat": 4
 },
 "nbformat": 4,
 "nbformat_minor": 2
}
