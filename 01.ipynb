{
 "cells": [
  {
   "cell_type": "code",
   "execution_count": null,
   "metadata": {},
   "outputs": [],
   "source": [
    "# Write a Python program to get the Fibonacci series between 0 to 50\n",
    "\n",
    "def fibonacciSeries(n):\n",
    "    # a = []\n",
    "    if n <= 1:\n",
    "        # print (\"hhi\")\n",
    "        return n\n",
    "\n",
    "    else:\n",
    "        # print(\"hhiiiii\")\n",
    "        return fibonacciSeries(n-1) + fibonacciSeries(n-2)\n",
    "\n",
    "n = 10\n",
    "a =[]\n",
    "for i in range(1, n):\n",
    "    # print(fibonacciSeries(i))\n",
    "    a.append(fibonacciSeries(i))\n",
    "print(a)"
   ]
  },
  {
   "cell_type": "code",
   "execution_count": null,
   "metadata": {},
   "outputs": [],
   "source": [
    "# Write a Python program that accepts a word from the user and reverse it.\n",
    "\n",
    "\n",
    "a = input(\"Enter a word:\")\n",
    "print(\"Reverse string is:\",a[::-1])"
   ]
  },
  {
   "cell_type": "code",
   "execution_count": null,
   "metadata": {},
   "outputs": [],
   "source": [
    "# Write a Python program to count the number of even and odd numbers from a series of numbers.\n",
    "def countEvenAndOdd(numbers):\n",
    "    a = []\n",
    "    b = []\n",
    "    for i in range(len(numbers)+1):\n",
    "        # print(i)\n",
    "        if i % 2 == 0:\n",
    "            # print(\"It is an even number\")\n",
    "            a.append(i)\n",
    "        elif i % 2 != 0:\n",
    "            # print (\"It is an even number\", i)\n",
    "            b.append(i)\n",
    "        else: \n",
    "            break\n",
    "\n",
    "    return print(f\"List of even number {a}\\nList of odd number {b}\")\n",
    "    # print()\n",
    "\n",
    "\n",
    "\n",
    "\n",
    "\n",
    "\n",
    "\n",
    "#driver code\n",
    "numbers = [1, 2, 3, 4, 5, 6, 7, 8, 9]\n",
    "result = countEvenAndOdd(numbers)"
   ]
  },
  {
   "cell_type": "code",
   "execution_count": null,
   "metadata": {},
   "outputs": [],
   "source": [
    "tuple_list = [(2, 5), (1, 2), (4, 4), (2, 3), (2, 1)]\n",
    "\n",
    "\n",
    "tuple_list.sort(key=lambda x: x[-1])\n",
    "\n",
    "\n",
    "print(\"Sorted List:\", tuple_list)"
   ]
  },
  {
   "cell_type": "code",
   "execution_count": null,
   "metadata": {},
   "outputs": [],
   "source": [
    "\n",
    "ascii_dict = {}\n",
    "\n",
    "\n",
    "for letter in range(ord('a'), ord('z') + 1):\n",
    "\n",
    "    ascii_dict[chr(letter)] = letter\n",
    "\n",
    "\n",
    "print(ascii_dict)"
   ]
  },
  {
   "cell_type": "code",
   "execution_count": null,
   "metadata": {},
   "outputs": [],
   "source": [
    "def sum_list_numbers(numbers):\n",
    "    total = 0  \n",
    "\n",
    "    for num in numbers:  \n",
    "        total += num     \n",
    "\n",
    "    return total        \n",
    "\n",
    "\n",
    "sample_list = [8, 2, 3, 0, 7]\n",
    "\n",
    "\n",
    "result = sum_list_numbers(sample_list)\n",
    "print(\"Sum of the numbers:\", result)"
   ]
  },
  {
   "cell_type": "code",
   "execution_count": null,
   "metadata": {},
   "outputs": [],
   "source": [
    "def reverse_string(input_string):\n",
    "    return input_string[::-1]\n",
    "\n",
    "sample_string = \"1234abcd\"\n",
    "reversed_string = reverse_string(sample_string)\n",
    "print(\"Reversed String:\", reversed_string)"
   ]
  },
  {
   "cell_type": "code",
   "execution_count": null,
   "metadata": {},
   "outputs": [],
   "source": [
    "def count_case_letters(input_string):\n",
    "    upper_count = 0\n",
    "    lower_count = 0\n",
    "\n",
    "    for char in input_string:\n",
    "        if char.isupper():\n",
    "            upper_count += 1\n",
    "        elif char.islower():\n",
    "            lower_count += 1\n",
    "\n",
    "    return upper_count, lower_count\n",
    "\n",
    "sample_string = 'The quick Brow Fox'\n",
    "upper_count, lower_count = count_case_letters(sample_string)\n",
    "print(\"Uppercase letters:\", upper_count)\n",
    "print(\"Lowercase letters:\", lower_count)"
   ]
  }
 ],
 "metadata": {
  "kernelspec": {
   "display_name": "Python 3",
   "language": "python",
   "name": "python3"
  },
  "language_info": {
   "name": "python",
   "version": "3.11.4"
  },
  "orig_nbformat": 4
 },
 "nbformat": 4,
 "nbformat_minor": 2
}
